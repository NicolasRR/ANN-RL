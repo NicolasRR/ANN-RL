{
 "cells": [
  {
   "cell_type": "markdown",
   "id": "31197381",
   "metadata": {},
   "source": [
    "# Setup"
   ]
  },
  {
   "cell_type": "code",
   "execution_count": 1,
   "id": "82eba1cf-3709-4a56-a1c2-9a6fcefc1870",
   "metadata": {},
   "outputs": [],
   "source": [
    "import gymnasium as gym\n",
    "env = gym.make('MountainCar-v0')\n",
    "import numpy as np\n",
    "from tqdm import tqdm\n",
    "import torch\n",
    "import torch.nn as nn\n",
    "import torch.nn.functional as F\n",
    "import wandb"
   ]
  },
  {
   "cell_type": "code",
   "execution_count": 2,
   "id": "48b866d4-a61e-49c9-8978-05488df1dae1",
   "metadata": {},
   "outputs": [],
   "source": [
    "starting_state, _ = env.reset() "
   ]
  },
  {
   "cell_type": "code",
   "execution_count": 3,
   "id": "8a8102e7",
   "metadata": {},
   "outputs": [],
   "source": [
    "DEVICE = torch.device('cuda' if torch.cuda.is_available() else 'cpu')"
   ]
  },
  {
   "cell_type": "code",
   "execution_count": 4,
   "id": "13b8997b",
   "metadata": {},
   "outputs": [],
   "source": [
    "class QNetwork(nn.Module):\n",
    "    def __init__(self, state_size, action_size, hidden_size,dropout_rate, seed):\n",
    "        super(QNetwork, self).__init__()\n",
    "        self.seed = torch.manual_seed(seed)\n",
    "        self.fc1 = nn.Linear(state_size, hidden_size)\n",
    "        self.bn1 = nn.BatchNorm1d(hidden_size)  # BatchNorm1d layer\n",
    "        self.fc2 = nn.Linear(hidden_size, action_size)\n",
    "        self.dropout = nn.Dropout(dropout_rate)  # Dropout layer\n",
    "\n",
    "    def forward(self, state):\n",
    "        if state.shape[0] == 1:\n",
    "            state = torch.unsqueeze(state, 0)\n",
    "            x = F.relu(self.fc1(state))\n",
    "        else:\n",
    "            x = F.relu(self.bn1(self.fc1(state))) \n",
    "         # Apply BatchNorm1d after fc1\n",
    "        x = self.dropout(x)  # Apply Dropout after BatchNorm1d\n",
    "        \n",
    "        return self.fc2(x)"
   ]
  },
  {
   "cell_type": "code",
   "execution_count": 5,
   "id": "64197a82",
   "metadata": {},
   "outputs": [],
   "source": [
    "class ReplayBuffer():\n",
    "    def __init__(self, replay_size):\n",
    "        self.state_buffer = None\n",
    "        self.action_buffer = None\n",
    "        self.reward_buffer = None\n",
    "        self.next_state_buffer = None\n",
    "\n",
    "        self.replay_size = replay_size\n",
    "\n",
    "    def update(self, state, action, reward, next_state):\n",
    "        if self.state_buffer is None:\n",
    "            self.state_buffer = np.array(state)\n",
    "            self.action_buffer = np.array([action])\n",
    "            self.reward_buffer = np.array([reward])\n",
    "            self.next_state_buffer = np.array(next_state)\n",
    "        else:\n",
    "            self.state_buffer = np.vstack((self.state_buffer[-self.replay_size:], state))\n",
    "            self.action_buffer = np.hstack((self.action_buffer[-self.replay_size:], action))\n",
    "            self.reward_buffer = np.hstack((self.reward_buffer[-self.replay_size:], reward))\n",
    "            self.next_state_buffer = np.vstack((self.next_state_buffer[-self.replay_size:], next_state))\n",
    "\n",
    "\n",
    "    def sample(self, batch_size):\n",
    "        if self.state_buffer.shape[0] < self.replay_size:\n",
    "            return None\n",
    "        else:\n",
    "            idx = np.random.choice(len(self.state_buffer), batch_size, replace=False)\n",
    "            return [self.state_buffer[idx],self.action_buffer[idx],self.reward_buffer[idx],self.next_state_buffer[idx]]"
   ]
  },
  {
   "cell_type": "code",
   "execution_count": 6,
   "id": "80f013a1-41e3-410b-aa19-53b2c641732c",
   "metadata": {},
   "outputs": [],
   "source": [
    "class DQNAgent:\n",
    "    def __init__(\n",
    "        self,\n",
    "        state_size : int,\n",
    "        action_size : int,\n",
    "        hidden_size:int,\n",
    "        replay_size: int,\n",
    "        learning_rate: float,\n",
    "        initial_epsilon: float,\n",
    "        final_epsilon: float,\n",
    "        epsilon_decay: float,\n",
    "        discount_factor: float = 0.95,\n",
    "        dropout_rate: float = 0.1,\n",
    "        seed: int = 42,\n",
    "        scheduler=None,\n",
    "    ):\n",
    "        \"\"\"Initialize a Reinforcement Learning agent with an empty dictionary\n",
    "        of state-action values (q_values), a learning rate and an epsilon.\n",
    "\n",
    "        Args:\n",
    "            learning_rate: The learning rate\n",
    "            initial_epsilon: The initial epsilon value\n",
    "            epsilon_decay: The decay for epsilon\n",
    "            final_epsilon: The final epsilon value\n",
    "            discount_factor: The discount factor for computing the Q-value\n",
    "        \"\"\"\n",
    "        self.qnetwork = QNetwork(state_size=state_size, action_size=action_size, hidden_size=hidden_size, dropout_rate=dropout_rate,seed=seed).to(DEVICE)\n",
    "        self.replay_buffer = ReplayBuffer(replay_size=replay_size)\n",
    "        self.lr = learning_rate\n",
    "        self.discount_factor = discount_factor\n",
    "        self.epsilon = initial_epsilon\n",
    "        self.optimizer = torch.optim.Adam(self.qnetwork.parameters(), lr=learning_rate)\n",
    "        self.training_error = []\n",
    "        self.final_epsilon = final_epsilon\n",
    "        self.epsilon_decay = epsilon_decay\n",
    "        self.scheduler = scheduler\n",
    "\n",
    "    def get_action(self, obs) -> int:\n",
    "        \"\"\"\n",
    "        Returns the best action with probability (1 - epsilon)\n",
    "        otherwise a random action with probability epsilon to ensure exploration.\n",
    "        \"\"\"\n",
    "        # with probability epsilon return a random action to explore the environment\n",
    "        \n",
    "        if np.random.random() < self.epsilon:\n",
    "            return env.action_space.sample()\n",
    "\n",
    "        # with probability (1 - epsilon) act greedily (exploit)\n",
    "        else:\n",
    "            with torch.no_grad():\n",
    "                return int(torch.argmax(self.qnetwork(torch.tensor(obs,device=DEVICE).unsqueeze(0))))\n",
    "\n",
    "    def update(\n",
    "        self,\n",
    "        obs: tuple[int, int, bool],\n",
    "        action: int,\n",
    "        reward: float,\n",
    "        next_obs: tuple[int, int, bool],\n",
    "        batch_size: int = 32,\n",
    "    ):\n",
    "        \n",
    "        self.replay_buffer.update(obs, action, reward, next_obs)\n",
    "\n",
    "        sample_replay = self.replay_buffer.sample(batch_size)\n",
    "        if sample_replay is None:\n",
    "            return None, None\n",
    "        replay_reward = torch.tensor(sample_replay[2]).to(DEVICE)\n",
    "        actions = torch.tensor(sample_replay[1]).to(DEVICE)\n",
    "        replay_obs = torch.tensor(sample_replay[0]).to(DEVICE)\n",
    "        replay_next_obs = torch.tensor(sample_replay[3]).to(DEVICE)\n",
    "\n",
    "        self.qnetwork.train()\n",
    "        q_values_next_obs = self.qnetwork(replay_next_obs)\n",
    "        q_values_obs = self.qnetwork(replay_obs)\n",
    "\n",
    "        temporal_difference = torch.sum(\n",
    "            replay_reward + self.discount_factor * torch.max(q_values_next_obs,dim=1).values - torch.gather(q_values_obs, 1, actions.unsqueeze(1)).squeeze(1)\n",
    "        )\n",
    "\n",
    "        self.optimizer.zero_grad()\n",
    "\n",
    "        loss = temporal_difference ** 2\n",
    "\n",
    "        loss.backward()\n",
    "        self.optimizer.step()\n",
    "        if self.scheduler is not None:\n",
    "            self.scheduler.step()\n",
    "\n",
    "        self.training_error.append(temporal_difference)\n",
    "        self.qnetwork.eval()\n",
    "        return loss.item(), reward\n",
    "\n",
    "\n",
    "    def decay_epsilon(self):\n",
    "        if self.replay_buffer.reward_buffer.shape[0] > self.replay_buffer.replay_size:\n",
    "            self.epsilon = max(self.final_epsilon, self.epsilon*self.epsilon_decay)"
   ]
  },
  {
   "cell_type": "code",
   "execution_count": 7,
   "id": "cbf58c16",
   "metadata": {},
   "outputs": [],
   "source": [
    "# hyperparameters\n",
    "learning_rate = 1e-3\n",
    "n_episodes = 3_000\n",
    "start_epsilon = 0.9\n",
    "final_epsilon = 0.05\n",
    "epsilon_decay = 0.999  # reduce the exploration over time\n",
    "batch_size = 64\n",
    "discount_factor = 0.95\n",
    "replay_size = 10_000\n",
    "logging_interval = 50\n",
    "hidden_size=128\n",
    "dropout_rate=0.1"
   ]
  },
  {
   "cell_type": "code",
   "execution_count": 8,
   "id": "bd3c32d8-7582-4593-b9e8-d1e555578849",
   "metadata": {},
   "outputs": [],
   "source": [
    "\n",
    "\n",
    "agent = DQNAgent(\n",
    "    learning_rate=learning_rate,\n",
    "    state_size=2,\n",
    "    action_size=3,\n",
    "    discount_factor=discount_factor,\n",
    "    final_epsilon=final_epsilon,\n",
    "    hidden_size=hidden_size,\n",
    "    epsilon_decay=epsilon_decay,\n",
    "    initial_epsilon=start_epsilon,\n",
    "    replay_size=replay_size,\n",
    "    dropout_rate=dropout_rate,\n",
    ")"
   ]
  },
  {
   "cell_type": "code",
   "execution_count": 9,
   "id": "c358b818",
   "metadata": {},
   "outputs": [
    {
     "name": "stderr",
     "output_type": "stream",
     "text": [
      "Failed to detect the name of this notebook, you can set it manually with the WANDB_NOTEBOOK_NAME environment variable to enable code saving.\n",
      "\u001b[34m\u001b[1mwandb\u001b[0m: Currently logged in as: \u001b[33mnreateguir\u001b[0m (\u001b[33mreategui\u001b[0m). Use \u001b[1m`wandb login --relogin`\u001b[0m to force relogin\n"
     ]
    },
    {
     "data": {
      "text/html": [
       "Tracking run with wandb version 0.16.6"
      ],
      "text/plain": [
       "<IPython.core.display.HTML object>"
      ]
     },
     "metadata": {},
     "output_type": "display_data"
    },
    {
     "data": {
      "text/html": [
       "Run data is saved locally in <code>/home/nicolasrr/Desktop/ANN-RL/wandb/run-20240507_181317-h6py4ok0</code>"
      ],
      "text/plain": [
       "<IPython.core.display.HTML object>"
      ]
     },
     "metadata": {},
     "output_type": "display_data"
    },
    {
     "data": {
      "text/html": [
       "Syncing run <strong><a href='https://wandb.ai/reategui/ANN/runs/h6py4ok0' target=\"_blank\">DQN</a></strong> to <a href='https://wandb.ai/reategui/ANN' target=\"_blank\">Weights & Biases</a> (<a href='https://wandb.me/run' target=\"_blank\">docs</a>)<br/>"
      ],
      "text/plain": [
       "<IPython.core.display.HTML object>"
      ]
     },
     "metadata": {},
     "output_type": "display_data"
    },
    {
     "data": {
      "text/html": [
       " View project at <a href='https://wandb.ai/reategui/ANN' target=\"_blank\">https://wandb.ai/reategui/ANN</a>"
      ],
      "text/plain": [
       "<IPython.core.display.HTML object>"
      ]
     },
     "metadata": {},
     "output_type": "display_data"
    },
    {
     "data": {
      "text/html": [
       " View run at <a href='https://wandb.ai/reategui/ANN/runs/h6py4ok0' target=\"_blank\">https://wandb.ai/reategui/ANN/runs/h6py4ok0</a>"
      ],
      "text/plain": [
       "<IPython.core.display.HTML object>"
      ]
     },
     "metadata": {},
     "output_type": "display_data"
    }
   ],
   "source": [
    "run = wandb.init(project='ANN', config={\"learning_rate\": learning_rate, \"n_episodes\": n_episodes, \"start_epsilon\": start_epsilon, \"final_epsilon\": final_epsilon, \"epsilon_decay\": epsilon_decay, \"batch_size\": batch_size, \"discount_factor\": discount_factor, \"replay_size\": replay_size, \"hidden_size\": hidden_size, \"dropout_rate\": dropout_rate}, name='DQN')\n"
   ]
  },
  {
   "cell_type": "code",
   "execution_count": 10,
   "id": "36016c2c",
   "metadata": {},
   "outputs": [
    {
     "name": "stderr",
     "output_type": "stream",
     "text": [
      "Episode 1/3000:   0%|          | 1/3000 [00:00<03:27, 14.47it/s, epsilon=0.9, train_loss=None]/home/nicolasrr/miniconda3/envs/ann/lib/python3.10/site-packages/numpy/core/fromnumeric.py:3504: RuntimeWarning: Mean of empty slice.\n",
      "  return _methods._mean(a, axis=axis, dtype=dtype,\n",
      "/home/nicolasrr/miniconda3/envs/ann/lib/python3.10/site-packages/numpy/core/_methods.py:129: RuntimeWarning: invalid value encountered in scalar divide\n",
      "  ret = ret.dtype.type(ret / rcount)\n",
      "Episode 105/3000:   4%|▎         | 105/3000 [00:28<22:35,  2.14it/s, epsilon=0.852, train_loss=0.872]"
     ]
    }
   ],
   "source": [
    "env = gym.wrappers.RecordEpisodeStatistics(env, deque_size=n_episodes)\n",
    "with tqdm(total=n_episodes, desc=f\"Episode 0/{n_episodes}\") as pbar:\n",
    "    losses = []\n",
    "    rewards = []\n",
    "    for episode in tqdm(range(n_episodes)):\n",
    "        obs, info = env.reset()\n",
    "        done = False\n",
    "\n",
    "        # play one episode\n",
    "        while not done:\n",
    "            action = agent.get_action(obs)\n",
    "            next_obs, reward, terminated, truncated, info = env.step(action)\n",
    "\n",
    "            # update the agent\n",
    "\n",
    "            \n",
    "            loss, reward = agent.update(obs, action, reward, next_obs, batch_size=batch_size)\n",
    "            if loss is not None:\n",
    "                rewards.append(reward)\n",
    "                losses.append(loss)\n",
    "            # update if the environment is done and the current obs\n",
    "            done = terminated or truncated\n",
    "            obs = next_obs\n",
    "\n",
    "        agent.decay_epsilon()\n",
    "        pbar.set_description(f\"Episode {episode + 1}/{n_episodes}\")\n",
    "        pbar.set_postfix(train_loss=loss, epsilon=agent.epsilon)\n",
    "        pbar.update(1)\n",
    "        pbar.refresh() \n",
    "        if episode % logging_interval == 0:\n",
    "            wandb.log({\"train_loss\": np.mean(losses), \"epsilon\": agent.epsilon, \"mean_reward\": np.mean(rewards)})\n",
    "            losses = []\n",
    "            rewards = []\n"
   ]
  },
  {
   "cell_type": "code",
   "execution_count": null,
   "id": "411b96ff",
   "metadata": {},
   "outputs": [
    {
     "ename": "NameError",
     "evalue": "name 'wandb' is not defined",
     "output_type": "error",
     "traceback": [
      "\u001b[0;31m---------------------------------------------------------------------------\u001b[0m",
      "\u001b[0;31mNameError\u001b[0m                                 Traceback (most recent call last)",
      "Cell \u001b[0;32mIn[1], line 1\u001b[0m\n\u001b[0;32m----> 1\u001b[0m \u001b[43mwandb\u001b[49m\u001b[38;5;241m.\u001b[39mfinish()\n",
      "\u001b[0;31mNameError\u001b[0m: name 'wandb' is not defined"
     ]
    }
   ],
   "source": [
    "wandb.finish()"
   ]
  }
 ],
 "metadata": {
  "kernelspec": {
   "display_name": "ann",
   "language": "python",
   "name": "python3"
  },
  "language_info": {
   "codemirror_mode": {
    "name": "ipython",
    "version": 3
   },
   "file_extension": ".py",
   "mimetype": "text/x-python",
   "name": "python",
   "nbconvert_exporter": "python",
   "pygments_lexer": "ipython3",
   "version": "3.10.14"
  }
 },
 "nbformat": 4,
 "nbformat_minor": 5
}
