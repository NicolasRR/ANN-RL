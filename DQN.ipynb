{
 "cells": [
  {
   "cell_type": "markdown",
   "id": "31197381",
   "metadata": {},
   "source": [
    "# Setup"
   ]
  },
  {
   "cell_type": "code",
   "execution_count": 12,
   "id": "82eba1cf-3709-4a56-a1c2-9a6fcefc1870",
   "metadata": {},
   "outputs": [],
   "source": [
    "import gymnasium as gym\n",
    "env = gym.make('MountainCar-v0')\n",
    "import numpy as np\n",
    "from tqdm import tqdm\n",
    "import torch\n",
    "import torch.nn as nn\n",
    "import torch.nn.functional as F\n",
    "import wandb"
   ]
  },
  {
   "cell_type": "code",
   "execution_count": 13,
   "id": "48b866d4-a61e-49c9-8978-05488df1dae1",
   "metadata": {},
   "outputs": [],
   "source": [
    "starting_state, _ = env.reset() "
   ]
  },
  {
   "cell_type": "code",
   "execution_count": 14,
   "id": "8a8102e7",
   "metadata": {},
   "outputs": [],
   "source": [
    "DEVICE = torch.device('cuda' if torch.cuda.is_available() else 'cpu')"
   ]
  },
  {
   "cell_type": "code",
   "execution_count": 15,
   "id": "13b8997b",
   "metadata": {},
   "outputs": [],
   "source": [
    "class QNetwork(nn.Module):\n",
    "    def __init__(self, state_size, action_size, hidden_size,dropout_rate, seed):\n",
    "        super(QNetwork, self).__init__()\n",
    "        self.seed = torch.manual_seed(seed)\n",
    "        self.fc1 = nn.Linear(state_size, hidden_size)\n",
    "        self.bn1 = nn.BatchNorm1d(hidden_size)  # BatchNorm1d layer\n",
    "        self.fc2 = nn.Linear(hidden_size, hidden_size)\n",
    "        self.fc3 = nn.Linear(hidden_size, action_size)\n",
    "\n",
    "        self.dropout = nn.Dropout(dropout_rate)  # Dropout layer\n",
    "\n",
    "    def forward(self, state):\n",
    "        if state.shape[0] == 1:\n",
    "            state = torch.unsqueeze(state, 0)\n",
    "            x = F.relu(self.fc1(state))\n",
    "            x = F.relu(self.fc2(x))\n",
    "\n",
    "        else:\n",
    "            x = F.relu(self.fc1(state))\n",
    "            x = F.relu(self.bn1(self.fc2(x))) \n",
    "         # Apply BatchNorm1d after fc1\n",
    "        x = self.dropout(x)  # Apply Dropout after BatchNorm1d\n",
    "        \n",
    "        return self.fc3(x)"
   ]
  },
  {
   "cell_type": "code",
   "execution_count": 16,
   "id": "64197a82",
   "metadata": {},
   "outputs": [],
   "source": [
    "class ReplayBuffer():\n",
    "    def __init__(self, replay_size):\n",
    "        self.state_buffer = None\n",
    "        self.action_buffer = None\n",
    "        self.reward_buffer = None\n",
    "        self.next_state_buffer = None\n",
    "\n",
    "        self.replay_size = replay_size\n",
    "\n",
    "    def update(self, state, action, reward, next_state):\n",
    "        if self.state_buffer is None:\n",
    "            self.state_buffer = np.array(state)\n",
    "            self.action_buffer = np.array([action])\n",
    "            self.reward_buffer = np.array([reward])\n",
    "            self.next_state_buffer = np.array(next_state)\n",
    "        else:\n",
    "            self.state_buffer = np.vstack((self.state_buffer[-self.replay_size:], state))\n",
    "            self.action_buffer = np.hstack((self.action_buffer[-self.replay_size:], action))\n",
    "            self.reward_buffer = np.hstack((self.reward_buffer[-self.replay_size:], reward))\n",
    "            self.next_state_buffer = np.vstack((self.next_state_buffer[-self.replay_size:], next_state))\n",
    "\n",
    "\n",
    "    def sample(self, batch_size):\n",
    "        if self.state_buffer.shape[0] < self.replay_size:\n",
    "            return None\n",
    "        else:\n",
    "            idx = np.random.choice(len(self.state_buffer), batch_size, replace=False)\n",
    "            return [self.state_buffer[idx],self.action_buffer[idx],self.reward_buffer[idx],self.next_state_buffer[idx]]"
   ]
  },
  {
   "cell_type": "code",
   "execution_count": 17,
   "id": "80f013a1-41e3-410b-aa19-53b2c641732c",
   "metadata": {},
   "outputs": [],
   "source": [
    "class DQNAgent:\n",
    "    def __init__(\n",
    "        self,\n",
    "        state_size : int,\n",
    "        action_size : int,\n",
    "        hidden_size:int,\n",
    "        replay_size: int,\n",
    "        learning_rate: float,\n",
    "        initial_epsilon: float,\n",
    "        final_epsilon: float,\n",
    "        epsilon_decay: float,\n",
    "        discount_factor: float = 0.95,\n",
    "        dropout_rate: float = 0.1,\n",
    "        seed: int = 42,\n",
    "        weight_decay: float = 0.01,\n",
    "        scheduler=None,\n",
    "        target_network = False,\n",
    "        target_network_update = 100\n",
    "    ):\n",
    "        \"\"\"Initialize a Reinforcement Learning agent with an empty dictionary\n",
    "        of state-action values (q_values), a learning rate and an epsilon.\n",
    "\n",
    "        Args:\n",
    "            learning_rate: The learning rate\n",
    "            initial_epsilon: The initial epsilon value\n",
    "            epsilon_decay: The decay for epsilon\n",
    "            final_epsilon: The final epsilon value\n",
    "            discount_factor: The discount factor for computing the Q-value\n",
    "        \"\"\"\n",
    "        self.qnetwork = QNetwork(state_size=state_size, action_size=action_size, hidden_size=hidden_size, dropout_rate=dropout_rate,seed=seed).to(DEVICE)\n",
    "      \n",
    "        if target_network: \n",
    "            self.target_network = QNetwork(state_size=state_size, action_size=action_size, hidden_size=hidden_size, dropout_rate=dropout_rate,seed=seed).to(DEVICE)\n",
    "            self.target_network.load_state_dict(self.qnetwork.state_dict())\n",
    "            self.target_network.eval()\n",
    "        else:\n",
    "            self.target_network = None\n",
    "        self.replay_buffer = ReplayBuffer(replay_size=replay_size)\n",
    "        self.lr = learning_rate\n",
    "        self.discount_factor = discount_factor\n",
    "        self.epsilon = initial_epsilon\n",
    "        self.optimizer = torch.optim.AdamW(self.qnetwork.parameters(), lr=learning_rate, weight_decay=weight_decay, amsgrad=True)\n",
    "        self.final_epsilon = final_epsilon\n",
    "        self.epsilon_decay = epsilon_decay\n",
    "        self.scheduler = scheduler\n",
    "        self.target_network_update = target_network_update\n",
    "        self.criterion = nn.SmoothL1Loss()\n",
    "\n",
    "\n",
    "    def get_action(self, obs) -> int:\n",
    "        \"\"\"\n",
    "        Returns the best action with probability (1 - epsilon)\n",
    "        otherwise a random action with probability epsilon to ensure exploration.\n",
    "        \"\"\"\n",
    "        # with probability epsilon return a random action to explore the environment\n",
    "        \n",
    "        if np.random.random() < self.epsilon:\n",
    "            return env.action_space.sample()\n",
    "\n",
    "        # with probability (1 - epsilon) act greedily (exploit)\n",
    "        else:\n",
    "            with torch.no_grad():\n",
    "                return int(torch.argmax(self.qnetwork(torch.tensor(obs,device=DEVICE).unsqueeze(0))))\n",
    "\n",
    "    def update(\n",
    "        self,\n",
    "        obs: tuple[int, int, bool],\n",
    "        action: int,\n",
    "        reward: float,\n",
    "        next_obs: tuple[int, int, bool],\n",
    "        target_count: int,\n",
    "        batch_size: int = 32,\n",
    "    ):\n",
    "        \n",
    "        self.replay_buffer.update(obs, action, reward, next_obs)\n",
    "\n",
    "        sample_replay = self.replay_buffer.sample(batch_size)\n",
    "        if sample_replay is None:\n",
    "            return None, target_count\n",
    "        replay_reward = torch.tensor(sample_replay[2]).to(DEVICE)\n",
    "        actions = torch.tensor(sample_replay[1]).to(DEVICE)\n",
    "        replay_obs = torch.tensor(sample_replay[0]).to(DEVICE)\n",
    "        replay_next_obs = torch.tensor(sample_replay[3]).to(DEVICE)\n",
    "        non_terminal = ~torch.isnan(replay_next_obs)[:,0]\n",
    "        \n",
    "        self.qnetwork.train()\n",
    "        q_values_obs = self.qnetwork(replay_obs)\n",
    "\n",
    "        with torch.no_grad():\n",
    "            q_values_next_obs = torch.zeros_like(q_values_obs, device=DEVICE)\n",
    "\n",
    "            if self.target_network is not None:            \n",
    "                q_values_next_obs[non_terminal,:] = self.target_network(replay_next_obs[non_terminal,:])\n",
    "            else:\n",
    "                q_values_next_obs[non_terminal,:] = self.qnetwork(replay_next_obs[non_terminal,:])\n",
    "            \n",
    "\n",
    "        self.optimizer.zero_grad()\n",
    "\n",
    "        # loss = self.criterion(torch.gather(q_values_obs, 1, actions.unsqueeze(1)).squeeze(1),replay_reward + self.discount_factor * torch.max(q_values_next_obs,dim=1).values)\n",
    "        loss =  torch.sum(\n",
    "            replay_reward + self.discount_factor * torch.max(q_values_next_obs,dim=1).values - torch.gather(q_values_obs, 1, actions.unsqueeze(1)).squeeze(1)\n",
    "        )**2\n",
    "\n",
    "        loss.backward()\n",
    "        # torch.nn.utils.clip_grad_value_(self.qnetwork.parameters(), 100)\n",
    "\n",
    "        self.optimizer.step()\n",
    "        if self.scheduler is not None:\n",
    "            self.scheduler.step()\n",
    "\n",
    "        self.qnetwork.eval()\n",
    "        if self.target_network is not None and target_count == self.target_network_update:\n",
    "            self.target_network.load_state_dict(self.qnetwork.state_dict())\n",
    "            self.target_network.eval()\n",
    "            target_count = 0\n",
    "        else:\n",
    "            target_count += 1\n",
    "\n",
    "        return loss.item(), target_count\n",
    "\n",
    "\n",
    "    def decay_epsilon(self):\n",
    "        if self.replay_buffer.reward_buffer.shape[0] > self.replay_buffer.replay_size:\n",
    "            self.epsilon = max(self.final_epsilon, self.epsilon*self.epsilon_decay)"
   ]
  },
  {
   "cell_type": "code",
   "execution_count": 18,
   "id": "cbf58c16",
   "metadata": {},
   "outputs": [],
   "source": [
    "# hyperparameters\n",
    "learning_rate = 1e-3\n",
    "n_episodes = 3_000\n",
    "start_epsilon = 0.9\n",
    "final_epsilon = 0.05\n",
    "epsilon_decay = 0.999  # reduce the exploration over time\n",
    "batch_size = 64\n",
    "discount_factor = 0.99\n",
    "replay_size = 10_000\n",
    "logging_interval = 50\n",
    "hidden_size=64\n",
    "dropout_rate=0.1\n",
    "weight_decay=1e-4\n",
    "target_network = True\n",
    "target_network_update = int(1e4)"
   ]
  },
  {
   "cell_type": "code",
   "execution_count": 19,
   "id": "bd3c32d8-7582-4593-b9e8-d1e555578849",
   "metadata": {},
   "outputs": [],
   "source": [
    "\n",
    "\n",
    "agent = DQNAgent(\n",
    "    learning_rate=learning_rate,\n",
    "    state_size=2,\n",
    "    action_size=3,\n",
    "    discount_factor=discount_factor,\n",
    "    final_epsilon=final_epsilon,\n",
    "    hidden_size=hidden_size,\n",
    "    epsilon_decay=epsilon_decay,\n",
    "    initial_epsilon=start_epsilon,\n",
    "    replay_size=replay_size,\n",
    "    dropout_rate=dropout_rate,\n",
    "    target_network=target_network,\n",
    "    weight_decay=weight_decay,\n",
    "    target_network_update=target_network_update\n",
    ")"
   ]
  },
  {
   "cell_type": "code",
   "execution_count": 20,
   "id": "c358b818",
   "metadata": {},
   "outputs": [
    {
     "data": {
      "text/html": [
       "Tracking run with wandb version 0.16.6"
      ],
      "text/plain": [
       "<IPython.core.display.HTML object>"
      ]
     },
     "metadata": {},
     "output_type": "display_data"
    },
    {
     "data": {
      "text/html": [
       "Run data is saved locally in <code>/home/nicolasrr/Desktop/ANN-RL/wandb/run-20240507_204503-l16wwiug</code>"
      ],
      "text/plain": [
       "<IPython.core.display.HTML object>"
      ]
     },
     "metadata": {},
     "output_type": "display_data"
    },
    {
     "data": {
      "text/html": [
       "Syncing run <strong><a href='https://wandb.ai/reategui/ANN/runs/l16wwiug' target=\"_blank\">DQN</a></strong> to <a href='https://wandb.ai/reategui/ANN' target=\"_blank\">Weights & Biases</a> (<a href='https://wandb.me/run' target=\"_blank\">docs</a>)<br/>"
      ],
      "text/plain": [
       "<IPython.core.display.HTML object>"
      ]
     },
     "metadata": {},
     "output_type": "display_data"
    },
    {
     "data": {
      "text/html": [
       " View project at <a href='https://wandb.ai/reategui/ANN' target=\"_blank\">https://wandb.ai/reategui/ANN</a>"
      ],
      "text/plain": [
       "<IPython.core.display.HTML object>"
      ]
     },
     "metadata": {},
     "output_type": "display_data"
    },
    {
     "data": {
      "text/html": [
       " View run at <a href='https://wandb.ai/reategui/ANN/runs/l16wwiug' target=\"_blank\">https://wandb.ai/reategui/ANN/runs/l16wwiug</a>"
      ],
      "text/plain": [
       "<IPython.core.display.HTML object>"
      ]
     },
     "metadata": {},
     "output_type": "display_data"
    }
   ],
   "source": [
    "run = wandb.init(project='ANN', config={\"learning_rate\": learning_rate, \"n_episodes\": n_episodes, \"start_epsilon\": start_epsilon, \"final_epsilon\": final_epsilon, \"epsilon_decay\": epsilon_decay, \"batch_size\": batch_size, \"discount_factor\": discount_factor, \"replay_size\": replay_size, \"hidden_size\": hidden_size, \"dropout_rate\": dropout_rate, \"weight_decay\":weight_decay, \"target_network\":target_network, \"target_network_update\":target_network_update}, name='DQN')\n"
   ]
  },
  {
   "cell_type": "code",
   "execution_count": 25,
   "id": "accc02e9",
   "metadata": {},
   "outputs": [
    {
     "data": {
      "text/plain": [
       "tensor(1)"
      ]
     },
     "execution_count": 25,
     "metadata": {},
     "output_type": "execute_result"
    }
   ],
   "source": [
    "torch.argmax(torch.tensor([0,2]).unsqueeze(0))"
   ]
  },
  {
   "cell_type": "code",
   "execution_count": 21,
   "id": "36016c2c",
   "metadata": {},
   "outputs": [
    {
     "name": "stderr",
     "output_type": "stream",
     "text": [
      " 23%|██▎       | 683/3000 [05:29<18:36,  2.08it/s]<22:33,  1.71it/s, epsilon=0.478, target_count=6589, train_loss=135]    \n",
      "Episode 683/3000:  23%|██▎       | 683/3000 [05:29<18:36,  2.08it/s, epsilon=0.478, target_count=6589, train_loss=135]\n"
     ]
    },
    {
     "ename": "KeyboardInterrupt",
     "evalue": "",
     "output_type": "error",
     "traceback": [
      "\u001b[0;31m---------------------------------------------------------------------------\u001b[0m",
      "\u001b[0;31mKeyboardInterrupt\u001b[0m                         Traceback (most recent call last)",
      "Cell \u001b[0;32mIn[21], line 20\u001b[0m\n\u001b[1;32m     17\u001b[0m \u001b[38;5;28;01mif\u001b[39;00m terminated:\n\u001b[1;32m     18\u001b[0m     next_obs \u001b[38;5;241m=\u001b[39m (\u001b[38;5;28;01mNone\u001b[39;00m, \u001b[38;5;28;01mNone\u001b[39;00m)\n\u001b[0;32m---> 20\u001b[0m loss, target_count \u001b[38;5;241m=\u001b[39m \u001b[43magent\u001b[49m\u001b[38;5;241;43m.\u001b[39;49m\u001b[43mupdate\u001b[49m\u001b[43m(\u001b[49m\u001b[43mobs\u001b[49m\u001b[43m,\u001b[49m\u001b[43m \u001b[49m\u001b[43maction\u001b[49m\u001b[43m,\u001b[49m\u001b[43m \u001b[49m\u001b[43mreward\u001b[49m\u001b[43m,\u001b[49m\u001b[43m \u001b[49m\u001b[43mnext_obs\u001b[49m\u001b[43m,\u001b[49m\u001b[43m \u001b[49m\u001b[43mbatch_size\u001b[49m\u001b[38;5;241;43m=\u001b[39;49m\u001b[43mbatch_size\u001b[49m\u001b[43m,\u001b[49m\u001b[43m \u001b[49m\u001b[43mtarget_count\u001b[49m\u001b[38;5;241;43m=\u001b[39;49m\u001b[43mtarget_count\u001b[49m\u001b[43m)\u001b[49m\n\u001b[1;32m     21\u001b[0m \u001b[38;5;28;01mif\u001b[39;00m loss \u001b[38;5;129;01mis\u001b[39;00m \u001b[38;5;129;01mnot\u001b[39;00m \u001b[38;5;28;01mNone\u001b[39;00m:\n\u001b[1;32m     22\u001b[0m     rewards\u001b[38;5;241m.\u001b[39mappend(reward)\n",
      "Cell \u001b[0;32mIn[17], line 105\u001b[0m, in \u001b[0;36mDQNAgent.update\u001b[0;34m(self, obs, action, reward, next_obs, target_count, batch_size)\u001b[0m\n\u001b[1;32m    100\u001b[0m \u001b[38;5;66;03m# loss = self.criterion(torch.gather(q_values_obs, 1, actions.unsqueeze(1)).squeeze(1),replay_reward + self.discount_factor * torch.max(q_values_next_obs,dim=1).values)\u001b[39;00m\n\u001b[1;32m    101\u001b[0m loss \u001b[38;5;241m=\u001b[39m  torch\u001b[38;5;241m.\u001b[39msum(\n\u001b[1;32m    102\u001b[0m     replay_reward \u001b[38;5;241m+\u001b[39m \u001b[38;5;28mself\u001b[39m\u001b[38;5;241m.\u001b[39mdiscount_factor \u001b[38;5;241m*\u001b[39m torch\u001b[38;5;241m.\u001b[39mmax(q_values_next_obs,dim\u001b[38;5;241m=\u001b[39m\u001b[38;5;241m1\u001b[39m)\u001b[38;5;241m.\u001b[39mvalues \u001b[38;5;241m-\u001b[39m torch\u001b[38;5;241m.\u001b[39mgather(q_values_obs, \u001b[38;5;241m1\u001b[39m, actions\u001b[38;5;241m.\u001b[39munsqueeze(\u001b[38;5;241m1\u001b[39m))\u001b[38;5;241m.\u001b[39msqueeze(\u001b[38;5;241m1\u001b[39m)\n\u001b[1;32m    103\u001b[0m )\u001b[38;5;241m*\u001b[39m\u001b[38;5;241m*\u001b[39m\u001b[38;5;241m2\u001b[39m\n\u001b[0;32m--> 105\u001b[0m \u001b[43mloss\u001b[49m\u001b[38;5;241;43m.\u001b[39;49m\u001b[43mbackward\u001b[49m\u001b[43m(\u001b[49m\u001b[43m)\u001b[49m\n\u001b[1;32m    106\u001b[0m \u001b[38;5;66;03m# torch.nn.utils.clip_grad_value_(self.qnetwork.parameters(), 100)\u001b[39;00m\n\u001b[1;32m    108\u001b[0m \u001b[38;5;28mself\u001b[39m\u001b[38;5;241m.\u001b[39moptimizer\u001b[38;5;241m.\u001b[39mstep()\n",
      "File \u001b[0;32m~/miniconda3/envs/ann/lib/python3.10/site-packages/torch/_tensor.py:525\u001b[0m, in \u001b[0;36mTensor.backward\u001b[0;34m(self, gradient, retain_graph, create_graph, inputs)\u001b[0m\n\u001b[1;32m    515\u001b[0m \u001b[38;5;28;01mif\u001b[39;00m has_torch_function_unary(\u001b[38;5;28mself\u001b[39m):\n\u001b[1;32m    516\u001b[0m     \u001b[38;5;28;01mreturn\u001b[39;00m handle_torch_function(\n\u001b[1;32m    517\u001b[0m         Tensor\u001b[38;5;241m.\u001b[39mbackward,\n\u001b[1;32m    518\u001b[0m         (\u001b[38;5;28mself\u001b[39m,),\n\u001b[0;32m   (...)\u001b[0m\n\u001b[1;32m    523\u001b[0m         inputs\u001b[38;5;241m=\u001b[39minputs,\n\u001b[1;32m    524\u001b[0m     )\n\u001b[0;32m--> 525\u001b[0m \u001b[43mtorch\u001b[49m\u001b[38;5;241;43m.\u001b[39;49m\u001b[43mautograd\u001b[49m\u001b[38;5;241;43m.\u001b[39;49m\u001b[43mbackward\u001b[49m\u001b[43m(\u001b[49m\n\u001b[1;32m    526\u001b[0m \u001b[43m    \u001b[49m\u001b[38;5;28;43mself\u001b[39;49m\u001b[43m,\u001b[49m\u001b[43m \u001b[49m\u001b[43mgradient\u001b[49m\u001b[43m,\u001b[49m\u001b[43m \u001b[49m\u001b[43mretain_graph\u001b[49m\u001b[43m,\u001b[49m\u001b[43m \u001b[49m\u001b[43mcreate_graph\u001b[49m\u001b[43m,\u001b[49m\u001b[43m \u001b[49m\u001b[43minputs\u001b[49m\u001b[38;5;241;43m=\u001b[39;49m\u001b[43minputs\u001b[49m\n\u001b[1;32m    527\u001b[0m \u001b[43m\u001b[49m\u001b[43m)\u001b[49m\n",
      "File \u001b[0;32m~/miniconda3/envs/ann/lib/python3.10/site-packages/torch/autograd/__init__.py:267\u001b[0m, in \u001b[0;36mbackward\u001b[0;34m(tensors, grad_tensors, retain_graph, create_graph, grad_variables, inputs)\u001b[0m\n\u001b[1;32m    262\u001b[0m     retain_graph \u001b[38;5;241m=\u001b[39m create_graph\n\u001b[1;32m    264\u001b[0m \u001b[38;5;66;03m# The reason we repeat the same comment below is that\u001b[39;00m\n\u001b[1;32m    265\u001b[0m \u001b[38;5;66;03m# some Python versions print out the first line of a multi-line function\u001b[39;00m\n\u001b[1;32m    266\u001b[0m \u001b[38;5;66;03m# calls in the traceback and some print out the last line\u001b[39;00m\n\u001b[0;32m--> 267\u001b[0m \u001b[43m_engine_run_backward\u001b[49m\u001b[43m(\u001b[49m\n\u001b[1;32m    268\u001b[0m \u001b[43m    \u001b[49m\u001b[43mtensors\u001b[49m\u001b[43m,\u001b[49m\n\u001b[1;32m    269\u001b[0m \u001b[43m    \u001b[49m\u001b[43mgrad_tensors_\u001b[49m\u001b[43m,\u001b[49m\n\u001b[1;32m    270\u001b[0m \u001b[43m    \u001b[49m\u001b[43mretain_graph\u001b[49m\u001b[43m,\u001b[49m\n\u001b[1;32m    271\u001b[0m \u001b[43m    \u001b[49m\u001b[43mcreate_graph\u001b[49m\u001b[43m,\u001b[49m\n\u001b[1;32m    272\u001b[0m \u001b[43m    \u001b[49m\u001b[43minputs\u001b[49m\u001b[43m,\u001b[49m\n\u001b[1;32m    273\u001b[0m \u001b[43m    \u001b[49m\u001b[43mallow_unreachable\u001b[49m\u001b[38;5;241;43m=\u001b[39;49m\u001b[38;5;28;43;01mTrue\u001b[39;49;00m\u001b[43m,\u001b[49m\n\u001b[1;32m    274\u001b[0m \u001b[43m    \u001b[49m\u001b[43maccumulate_grad\u001b[49m\u001b[38;5;241;43m=\u001b[39;49m\u001b[38;5;28;43;01mTrue\u001b[39;49;00m\u001b[43m,\u001b[49m\n\u001b[1;32m    275\u001b[0m \u001b[43m\u001b[49m\u001b[43m)\u001b[49m\n",
      "File \u001b[0;32m~/miniconda3/envs/ann/lib/python3.10/site-packages/torch/autograd/graph.py:744\u001b[0m, in \u001b[0;36m_engine_run_backward\u001b[0;34m(t_outputs, *args, **kwargs)\u001b[0m\n\u001b[1;32m    742\u001b[0m     unregister_hooks \u001b[38;5;241m=\u001b[39m _register_logging_hooks_on_whole_graph(t_outputs)\n\u001b[1;32m    743\u001b[0m \u001b[38;5;28;01mtry\u001b[39;00m:\n\u001b[0;32m--> 744\u001b[0m     \u001b[38;5;28;01mreturn\u001b[39;00m \u001b[43mVariable\u001b[49m\u001b[38;5;241;43m.\u001b[39;49m\u001b[43m_execution_engine\u001b[49m\u001b[38;5;241;43m.\u001b[39;49m\u001b[43mrun_backward\u001b[49m\u001b[43m(\u001b[49m\u001b[43m  \u001b[49m\u001b[38;5;66;43;03m# Calls into the C++ engine to run the backward pass\u001b[39;49;00m\n\u001b[1;32m    745\u001b[0m \u001b[43m        \u001b[49m\u001b[43mt_outputs\u001b[49m\u001b[43m,\u001b[49m\u001b[43m \u001b[49m\u001b[38;5;241;43m*\u001b[39;49m\u001b[43margs\u001b[49m\u001b[43m,\u001b[49m\u001b[43m \u001b[49m\u001b[38;5;241;43m*\u001b[39;49m\u001b[38;5;241;43m*\u001b[39;49m\u001b[43mkwargs\u001b[49m\n\u001b[1;32m    746\u001b[0m \u001b[43m    \u001b[49m\u001b[43m)\u001b[49m  \u001b[38;5;66;03m# Calls into the C++ engine to run the backward pass\u001b[39;00m\n\u001b[1;32m    747\u001b[0m \u001b[38;5;28;01mfinally\u001b[39;00m:\n\u001b[1;32m    748\u001b[0m     \u001b[38;5;28;01mif\u001b[39;00m attach_logging_hooks:\n",
      "\u001b[0;31mKeyboardInterrupt\u001b[0m: "
     ]
    }
   ],
   "source": [
    "env = gym.wrappers.RecordEpisodeStatistics(env, deque_size=n_episodes)\n",
    "with tqdm(total=n_episodes, desc=f\"Episode 0/{n_episodes}\") as pbar:\n",
    "    losses = []\n",
    "    rewards = []\n",
    "    target_count = 0\n",
    "\n",
    "    for episode in tqdm(range(n_episodes)):\n",
    "        obs, info = env.reset()\n",
    "        done = False\n",
    "        # play one episode\n",
    "        while not done:\n",
    "            action = agent.get_action(obs)\n",
    "            next_obs, reward, terminated, truncated, info = env.step(action)\n",
    "\n",
    "            # update if the environment is done and the current obs\n",
    "            done = terminated or truncated\n",
    "            if terminated:\n",
    "                next_obs = (None, None)\n",
    "\n",
    "            loss, target_count = agent.update(obs, action, reward, next_obs, batch_size=batch_size, target_count=target_count)\n",
    "            if loss is not None:\n",
    "                rewards.append(reward)\n",
    "                losses.append(loss)\n",
    "            obs = next_obs\n",
    "\n",
    "\n",
    "        agent.decay_epsilon()\n",
    "        pbar.set_description(f\"Episode {episode + 1}/{n_episodes}\")\n",
    "        pbar.set_postfix(train_loss=loss, epsilon=agent.epsilon, target_count=target_count)\n",
    "        pbar.update(1)\n",
    "        pbar.refresh() \n",
    "        if episode % logging_interval == 0 and episode>100:\n",
    "            wandb.log({\"train_loss\": np.mean(losses), \"epsilon\": agent.epsilon, \"mean_reward\": np.mean(rewards)})\n",
    "            losses = []\n",
    "            rewards = []\n"
   ]
  },
  {
   "cell_type": "code",
   "execution_count": 22,
   "id": "411b96ff",
   "metadata": {},
   "outputs": [
    {
     "data": {
      "application/vnd.jupyter.widget-view+json": {
       "model_id": "7184177f91544da899e52c49973229eb",
       "version_major": 2,
       "version_minor": 0
      },
      "text/plain": [
       "VBox(children=(Label(value='0.002 MB of 0.002 MB uploaded\\r'), FloatProgress(value=1.0, max=1.0)))"
      ]
     },
     "metadata": {},
     "output_type": "display_data"
    },
    {
     "data": {
      "text/html": [
       "<style>\n",
       "    table.wandb td:nth-child(1) { padding: 0 10px; text-align: left ; width: auto;} td:nth-child(2) {text-align: left ; width: 100%}\n",
       "    .wandb-row { display: flex; flex-direction: row; flex-wrap: wrap; justify-content: flex-start; width: 100% }\n",
       "    .wandb-col { display: flex; flex-direction: column; flex-basis: 100%; flex: 1; padding: 10px; }\n",
       "    </style>\n",
       "<div class=\"wandb-row\"><div class=\"wandb-col\"><h3>Run history:</h3><br/><table class=\"wandb\"><tr><td>epsilon</td><td>█▇▆▆▅▄▃▃▂▂▁</td></tr><tr><td>mean_reward</td><td>▁▁▁▁▁▁▁▁▁▁▁</td></tr><tr><td>train_loss</td><td>▁▁▁▁▁▁▁▂▂▄█</td></tr></table><br/></div><div class=\"wandb-col\"><h3>Run summary:</h3><br/><table class=\"wandb\"><tr><td>epsilon</td><td>0.49329</td></tr><tr><td>mean_reward</td><td>-1.0</td></tr><tr><td>train_loss</td><td>753.65551</td></tr></table><br/></div></div>"
      ],
      "text/plain": [
       "<IPython.core.display.HTML object>"
      ]
     },
     "metadata": {},
     "output_type": "display_data"
    },
    {
     "data": {
      "text/html": [
       " View run <strong style=\"color:#cdcd00\">DQN</strong> at: <a href='https://wandb.ai/reategui/ANN/runs/l16wwiug' target=\"_blank\">https://wandb.ai/reategui/ANN/runs/l16wwiug</a><br/> View project at: <a href='https://wandb.ai/reategui/ANN' target=\"_blank\">https://wandb.ai/reategui/ANN</a><br/>Synced 6 W&B file(s), 0 media file(s), 0 artifact file(s) and 0 other file(s)"
      ],
      "text/plain": [
       "<IPython.core.display.HTML object>"
      ]
     },
     "metadata": {},
     "output_type": "display_data"
    },
    {
     "data": {
      "text/html": [
       "Find logs at: <code>./wandb/run-20240507_204503-l16wwiug/logs</code>"
      ],
      "text/plain": [
       "<IPython.core.display.HTML object>"
      ]
     },
     "metadata": {},
     "output_type": "display_data"
    }
   ],
   "source": [
    "wandb.finish()"
   ]
  }
 ],
 "metadata": {
  "kernelspec": {
   "display_name": "ann",
   "language": "python",
   "name": "python3"
  },
  "language_info": {
   "codemirror_mode": {
    "name": "ipython",
    "version": 3
   },
   "file_extension": ".py",
   "mimetype": "text/x-python",
   "name": "python",
   "nbconvert_exporter": "python",
   "pygments_lexer": "ipython3",
   "version": "3.10.14"
  }
 },
 "nbformat": 4,
 "nbformat_minor": 5
}
