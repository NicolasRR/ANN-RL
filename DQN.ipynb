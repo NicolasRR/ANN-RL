{
 "cells": [
  {
   "cell_type": "markdown",
   "id": "31197381",
   "metadata": {},
   "source": [
    "# Setup"
   ]
  },
  {
   "cell_type": "code",
   "execution_count": null,
   "id": "82eba1cf-3709-4a56-a1c2-9a6fcefc1870",
   "metadata": {},
   "outputs": [],
   "source": [
    "import gymnasium as gym\n",
    "env = gym.make('MountainCar-v0')\n",
    "import numpy as np\n",
    "from tqdm import tqdm\n",
    "import torch\n",
    "import torch.nn as nn\n",
    "import torch.nn.functional as F\n",
    "import wandb\n",
    "from matplotlib import pyplot as plt"
   ]
  },
  {
   "cell_type": "code",
   "execution_count": null,
   "id": "9583bf9d",
   "metadata": {},
   "outputs": [],
   "source": [
    "from dqn import QNetwork, DQNAgent, ReplayBuffer"
   ]
  },
  {
   "cell_type": "code",
   "execution_count": null,
   "id": "cbf58c16",
   "metadata": {},
   "outputs": [],
   "source": [
    "# hyperparameters\n",
    "learning_rate = 1e-3\n",
    "n_episodes = 3_000\n",
    "start_epsilon = 0.9\n",
    "final_epsilon = 0.05\n",
    "epsilon_decay = 0.99\n",
    "# reduce the exploration over time\n",
    "batch_size = 64\n",
    "discount_factor = 0.99\n",
    "replay_size = 10_000\n",
    "logging_interval = 50\n",
    "hidden_size=64\n",
    "dropout_rate=0.1\n",
    "weight_decay=1e-4\n",
    "target_network = False\n",
    "target_network_update = int(1e4)\n",
    "alpha = 0\n",
    "np.random.seed(42)\n",
    "auxiliary = True\n",
    "intermediate_reward = 1\n",
    "final_reward = 100\n",
    "amsgrad = False"
   ]
  },
  {
   "cell_type": "code",
   "execution_count": null,
   "id": "bd3c32d8-7582-4593-b9e8-d1e555578849",
   "metadata": {},
   "outputs": [],
   "source": [
    "agent = DQNAgent(\n",
    "    learning_rate=learning_rate,\n",
    "    state_size=2,\n",
    "    action_size=3,\n",
    "    discount_factor=discount_factor,\n",
    "    final_epsilon=final_epsilon,\n",
    "    hidden_size=hidden_size,\n",
    "    epsilon_decay=epsilon_decay,\n",
    "    initial_epsilon=start_epsilon,\n",
    "    replay_size=replay_size,\n",
    "    dropout_rate=dropout_rate,\n",
    "    target_network=target_network,\n",
    "    weight_decay=weight_decay,\n",
    "    target_network_update=target_network_update,\n",
    "    alpha=alpha,\n",
    "    amsgrad=amsgrad\n",
    ")"
   ]
  },
  {
   "cell_type": "code",
   "execution_count": null,
   "id": "c358b818",
   "metadata": {},
   "outputs": [],
   "source": [
    "# run = wandb.init(project='ANN', config={\"learning_rate\": learning_rate, \"n_episodes\": n_episodes, \"start_epsilon\": start_epsilon, \"final_epsilon\": final_epsilon, \"epsilon_decay\": epsilon_decay, \"batch_size\": batch_size, \"discount_factor\": discount_factor, \"replay_size\": replay_size, \"hidden_size\": hidden_size, \"dropout_rate\": dropout_rate, \"weight_decay\":weight_decay, \"target_network\":target_network, \"alpha\":alpha,\"target_network_update\":target_network_update, \"auxiliary\":auxiliary, \"final_reward\":final_reward, \"intermediate_reward\":intermediate_reward, \"amsgrad\":amsgrad}, name='DQN')\n"
   ]
  },
  {
   "cell_type": "code",
   "execution_count": null,
   "id": "36016c2c",
   "metadata": {},
   "outputs": [],
   "source": [
    "env = gym.wrappers.RecordEpisodeStatistics(env, deque_size=n_episodes)\n",
    "with tqdm(total=n_episodes, desc=f\"Episode 0/{n_episodes}\") as pbar:\n",
    "    losses = []\n",
    "    rewards = []\n",
    "    target_count = 0\n",
    "    finished = []\n",
    "    episode_steps = []\n",
    "    for episode in tqdm(range(n_episodes)):\n",
    "        obs, info = env.reset()\n",
    "        done = False\n",
    "        # play one episode\n",
    "        t = 0\n",
    "        episode_reward = 0\n",
    "        episode_loss = 0\n",
    "        \n",
    "        while not done:\n",
    "            action = agent.get_action(obs, env=env)\n",
    "            next_obs, reward, terminated, truncated, info = env.step(action)\n",
    "\n",
    "            # update if the environment is done and the current obs\n",
    "            done = terminated or truncated\n",
    "            if terminated:\n",
    "                next_obs = (None, None)\n",
    "                reward+=final_reward\n",
    "            reward+=intermediate_reward*(1.8-(0.6-next_obs[0]))/1.8\n",
    "\n",
    "            loss, target_count = agent.update(obs, action, reward, next_obs, batch_size=batch_size, target_count=target_count)\n",
    "            if loss is not None:\n",
    "                episode_reward += reward\n",
    "                episode_loss+=loss\n",
    "            obs = next_obs\n",
    "            t+=1\n",
    "        finished.append(terminated)\n",
    "        episode_steps.append(t)\n",
    "        rewards.append(episode_reward)\n",
    "        losses.append(episode_loss)\n",
    "        agent.decay_epsilon()\n",
    "        pbar.set_description(f\"Episode {episode + 1}/{n_episodes}\")\n",
    "        pbar.set_postfix(train_loss=loss, epsilon=agent.epsilon, target_count=target_count)\n",
    "        pbar.update(1)\n",
    "        pbar.refresh() \n",
    "        if episode % logging_interval == 0 and episode>100:\n",
    "            # wandb.log({\"train_loss\": np.mean(losses), \"epsilon\": agent.epsilon, \"episode_steps\": np.mean(episode_steps), \"finished\": np.sum(finished), \"mean_reward\": np.mean(rewards)})\n",
    "            losses = []\n",
    "            rewards = []\n",
    "            finished = []\n",
    "            episode_steps = []\n"
   ]
  },
  {
   "cell_type": "code",
   "execution_count": null,
   "id": "411b96ff",
   "metadata": {},
   "outputs": [],
   "source": [
    "wandb.finish()"
   ]
  }
 ],
 "metadata": {
  "kernelspec": {
   "display_name": "ann",
   "language": "python",
   "name": "python3"
  },
  "language_info": {
   "codemirror_mode": {
    "name": "ipython",
    "version": 3
   },
   "file_extension": ".py",
   "mimetype": "text/x-python",
   "name": "python",
   "nbconvert_exporter": "python",
   "pygments_lexer": "ipython3",
   "version": "3.10.14"
  }
 },
 "nbformat": 4,
 "nbformat_minor": 5
}
