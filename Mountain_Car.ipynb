{
 "cells": [
  {
   "cell_type": "code",
   "execution_count": null,
   "id": "82eba1cf-3709-4a56-a1c2-9a6fcefc1870",
   "metadata": {},
   "outputs": [],
   "source": [
    "import gymnasium as gym"
   ]
  },
  {
   "cell_type": "code",
   "execution_count": null,
   "id": "48b866d4-a61e-49c9-8978-05488df1dae1",
   "metadata": {},
   "outputs": [],
   "source": [
    "env = gym.make('MountainCar-v0')\n",
    "starting_state, _ = env.reset() "
   ]
  },
  {
   "cell_type": "code",
   "execution_count": null,
   "id": "f1bf2dad-0c8a-4e7d-a4f7-52d4a68aeaff",
   "metadata": {},
   "outputs": [],
   "source": [
    "from abc import ABC, abstractmethod\n",
    "\n",
    "class Agent(ABC):\n",
    "    @abstractmethod\n",
    "    def observe(self,state,action, next_state, reward)\n",
    "    #call upon observing a new transtition of the environment\n",
    "        pass\n",
    "\n",
    "    @abstractmethod\n",
    "    def select_action(self, state)\n",
    "    #pick an action from the given state\n",
    "        pass\n",
    "        \n",
    "    @abstractmethod  \n",
    "    def update(self)\n",
    "    #called after each environment step. This is wgere all the training takes place\n",
    "\n"
   ]
  },
  {
   "cell_type": "code",
   "execution_count": null,
   "id": "80f013a1-41e3-410b-aa19-53b2c641732c",
   "metadata": {},
   "outputs": [],
   "source": [
    "class RandomAgent(Agent):\n",
    "    def __init__(self):\n",
    "        self.rewards=[]\n",
    "        state, _ = env.reset()\n",
    "        self.state=state\n",
    "        self.done=False\n",
    "    \n",
    "    def observe(self,state,action, next_state, reward)\n",
    "    #call upon observing a new transtition of the environment\n",
    "        self.rewards[self.current_episode]+=reward\n",
    "        self.state = next_state\n",
    "    \n",
    "    def select_action(self, state):\n",
    "        return env.action_space.sample()\n",
    "    \n",
    "    def update(self)\n",
    "    #called after each environment step. This is where all the training takes place\n",
    "        action=select_action(self,self.state)\n",
    "        next_state, reward, terminated, truncated, _ = env.step(action)\n",
    "        observe(self,self.state,action, next_state,reward)\n",
    "        self.done = terminated or truncated\n",
    "\n"
   ]
  },
  {
   "cell_type": "code",
   "execution_count": null,
   "id": "bd3c32d8-7582-4593-b9e8-d1e555578849",
   "metadata": {},
   "outputs": [],
   "source": [
    "done = False\n",
    "state, _ = env.reset()\n",
    "episode_reward = 0\n",
    "\n",
    "while not done:\n",
    "    action = env.action_space.sample()\n",
    "    next_state, reward, terimnated, truncated, _ = env.step(action)\n",
    "\n",
    "    episode_reward += reward\n",
    "\n",
    "    state = next_state\n",
    "    done = terminated or truncated\n",
    "\n",
    "print(f\"Episode reward after taking random actions: {episode_reward}\")"
   ]
  }
 ],
 "metadata": {
  "kernelspec": {
   "display_name": "ann",
   "language": "python",
   "name": "ann"
  },
  "language_info": {
   "codemirror_mode": {
    "name": "ipython",
    "version": 3
   },
   "file_extension": ".py",
   "mimetype": "text/x-python",
   "name": "python",
   "nbconvert_exporter": "python",
   "pygments_lexer": "ipython3",
   "version": "3.12.2"
  }
 },
 "nbformat": 4,
 "nbformat_minor": 5
}
