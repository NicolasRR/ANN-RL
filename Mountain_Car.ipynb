{
 "cells": [
  {
   "cell_type": "code",
   "execution_count": 1,
   "id": "82eba1cf-3709-4a56-a1c2-9a6fcefc1870",
   "metadata": {
    "execution": {
     "iopub.execute_input": "2024-05-08T18:22:29.086976Z",
     "iopub.status.busy": "2024-05-08T18:22:29.086556Z",
     "iopub.status.idle": "2024-05-08T18:22:30.607576Z",
     "shell.execute_reply": "2024-05-08T18:22:30.606501Z",
     "shell.execute_reply.started": "2024-05-08T18:22:29.086926Z"
    }
   },
   "outputs": [],
   "source": [
    "import gymnasium as gym\n",
    "import random\n",
    "import numpy as np\n",
    "import matplotlib.pyplot as plt"
   ]
  },
  {
   "cell_type": "code",
   "execution_count": 4,
   "id": "f1bf2dad-0c8a-4e7d-a4f7-52d4a68aeaff",
   "metadata": {
    "execution": {
     "iopub.execute_input": "2024-05-07T13:37:36.591463Z",
     "iopub.status.busy": "2024-05-07T13:37:36.591002Z",
     "iopub.status.idle": "2024-05-07T13:37:36.601852Z",
     "shell.execute_reply": "2024-05-07T13:37:36.600172Z",
     "shell.execute_reply.started": "2024-05-07T13:37:36.591428Z"
    }
   },
   "outputs": [],
   "source": [
    "from abc import ABC, abstractmethod\n",
    "\n",
    "class Agent(ABC):\n",
    "    @abstractmethod\n",
    "    def observe(self,state,action, next_state, reward):\n",
    "    #call upon observing a new transtition of the environment\n",
    "        pass\n",
    "\n",
    "    @abstractmethod\n",
    "    def select_action(self, state):\n",
    "    #pick an action from the given state\n",
    "        pass\n",
    "        \n",
    "    @abstractmethod  \n",
    "    def update(self):\n",
    "    #called after each environment step. This is wgere all the training takes place\n",
    "        pass\n",
    "\n"
   ]
  },
  {
   "cell_type": "code",
   "execution_count": 34,
   "id": "bd3c32d8-7582-4593-b9e8-d1e555578849",
   "metadata": {
    "execution": {
     "iopub.execute_input": "2024-05-07T14:27:45.292333Z",
     "iopub.status.busy": "2024-05-07T14:27:45.291848Z",
     "iopub.status.idle": "2024-05-07T14:27:45.749167Z",
     "shell.execute_reply": "2024-05-07T14:27:45.747275Z",
     "shell.execute_reply.started": "2024-05-07T14:27:45.292296Z"
    }
   },
   "outputs": [
    {
     "name": "stdout",
     "output_type": "stream",
     "text": [
      "Episode reward after taking random actions: -200.0\n"
     ]
    },
    {
     "data": {
      "text/plain": [
       "[<matplotlib.lines.Line2D at 0x12acebc50>]"
      ]
     },
     "execution_count": 34,
     "metadata": {},
     "output_type": "execute_result"
    },
    {
     "data": {
      "image/png": "[encoded data removed]",
      "text/plain": [
       "<Figure size 640x480 with 1 Axes>"
      ]
     },
     "metadata": {},
     "output_type": "display_data"
    }
   ],
   "source": [
    "class RandomAgent:\n",
    "    \n",
    "    def select_action(self, state, env):\n",
    "        return env.action_space.sample()\n",
    "    \n",
    "    def update(self, state, env):\n",
    "        action = self.select_action(state, env)\n",
    "        next_state, reward,terminated, truncated, _  = env.step(action)\n",
    "        done = terminated or truncated\n",
    "\n",
    "        return next_state,reward,done,\n",
    "\n",
    "env = gym.make('MountainCar-v0')\n",
    "random_agent = RandomAgent()\n",
    "rewards = np.zeros(n_episodes)\n",
    "\n",
    "state,_ = env.reset()\n",
    "reward_epi = 0\n",
    "done = False\n",
    "x=[]\n",
    "while not done:\n",
    "    next_state,reward,end=random_agent.update(state, env)\n",
    "    reward_epi += reward\n",
    "    state=next_state\n",
    "    x.append(state[0])\n",
    "    done=end\n",
    "\n",
    "\n",
    "env.close()\n",
    "\n",
    "print(f\"Episode reward after taking random actions: {reward_epi}\")\n",
    "plt.plot(x)"
   ]
  },
  {
   "cell_type": "code",
   "execution_count": 2,
   "id": "3cd410fc-5a03-4483-aa66-1221bcb74590",
   "metadata": {
    "execution": {
     "iopub.execute_input": "2024-05-08T18:22:35.253185Z",
     "iopub.status.busy": "2024-05-08T18:22:35.252629Z",
     "iopub.status.idle": "2024-05-08T18:22:35.276077Z",
     "shell.execute_reply": "2024-05-08T18:22:35.274894Z",
     "shell.execute_reply.started": "2024-05-08T18:22:35.253143Z"
    }
   },
   "outputs": [],
   "source": [
    "class DynaAgent:\n",
    "    def __init__(self, n_states, n_actions, discr_step=[0.025, 0.005], gamma=0.99, epsilon=0.9, min_epsilon=0.05, k=5):\n",
    "        self.discr_step = discr_step\n",
    "        self.gamma = gamma\n",
    "        self.epsilon = epsilon\n",
    "        self.min_epsilon = min_epsilon\n",
    "        self.k = k\n",
    "        \n",
    "        self.n_states_x = n_states[0]\n",
    "        self.n_states_v=n_states[1]\n",
    "        self.n_states=self.n_states_x*self.n_states_v\n",
    "        self.n_actions = n_actions\n",
    "        \n",
    "        # Initialize model components\n",
    "        self.P_hat = np.ones(shape=(self.n_states, self.n_actions, self.n_states) )/ self.n_states\n",
    "        self.R_hat = np.zeros(shape=(self.n_states, self.n_actions))\n",
    "        self.Q = np.zeros(shape=(self.n_states, self.n_actions))\n",
    "        \n",
    "    def discretize_state(self, state):\n",
    "        discr_state = (state + np.array([1.2, 0.07])) / np.array(self.discr_step)\n",
    "        return tuple(discr_state.astype(int))\n",
    "        \n",
    "    def encode_state(self,state):\n",
    "        return state[0]+self.n_states_x*state[1]\n",
    "    \n",
    "    def update_model(self, state, action, reward, next_state):\n",
    "        discr_state = self.discretize_state(state)\n",
    "        discr_next_state = self.discretize_state(next_state)\n",
    "        \n",
    "        # Update transition probabilities\n",
    "        self.P_hat[self.encode_state(discr_state)][action][self.encode_state(discr_next_state)] += 1\n",
    "        \n",
    "        # Update rewards\n",
    "        self.R_hat[self.encode_state(discr_state)][action] += reward\n",
    "    \n",
    "    def update_q_value(self, state, action, reward, next_state):\n",
    "        \n",
    "        discr_state = self.discretize_state(state)\n",
    "        discr_next_state = self.discretize_state(next_state)\n",
    "\n",
    "        current=self.encode_state(discr_state)\n",
    "        next=self.encode_state(discr_next_state)\n",
    "\n",
    "        # Update Q-value\n",
    "        max_next_q_value = np.max(self.Q[next])\n",
    "        self.Q[current][action] = self.R_hat[current][action] + self.gamma * max_next_q_value\n",
    "    \n",
    "    def update(self, state, action, reward, next_state):\n",
    "        \n",
    "        self.update_model(state, action, reward, next_state)\n",
    "        self.update_q_value(state, action, reward, next_state)\n",
    "        \n",
    "        # Perform further updates for k randomly chosen state-action pairs\n",
    "        for _ in range(self.k):\n",
    "            rand_state = np.array([random.uniform(-1.2, 0.6),random.uniform(-0.07, 0.07)])\n",
    "            rand_state=np.round(rand_state, 2)\n",
    "            rand_action = np.random.randint(self.n_actions)\n",
    "            self.update_q_value(rand_state, rand_action, self.R_hat[self.encode_state(self.discretize_state(rand_state))][rand_action], rand_state)\n",
    "    \n",
    "    def select_action(self, state):\n",
    "        if np.random.rand() < self.epsilon:\n",
    "            return np.random.randint(self.n_actions)\n",
    "        else:\n",
    "            discr_state = self.discretize_state(state)\n",
    "            return np.argmax(self.Q[self.encode_state(discr_state)])\n",
    "    \n",
    "    def decay_epsilon(self, episode):\n",
    "        self.epsilon = max(self.min_epsilon, self.epsilon * (0.99 ** episode))"
   ]
  },
  {
   "cell_type": "code",
   "execution_count": 5,
   "id": "36f7c0ea-007b-4efb-9398-cc94f7303197",
   "metadata": {
    "execution": {
     "iopub.execute_input": "2024-05-08T18:23:25.886757Z",
     "iopub.status.busy": "2024-05-08T18:23:25.886279Z",
     "iopub.status.idle": "2024-05-08T18:23:31.393539Z",
     "shell.execute_reply": "2024-05-08T18:23:31.392467Z",
     "shell.execute_reply.started": "2024-05-08T18:23:25.886722Z"
    }
   },
   "outputs": [],
   "source": [
    "\n",
    "# Create the environment\n",
    "env = gym.make('MountainCar-v0')\n",
    "\n",
    "# Get the number of states and actions\n",
    "n_states = tuple(((env.observation_space.high - env.observation_space.low) / np.array([0.025, 0.005])).astype(int) + 1)\n",
    "n_actions = env.action_space.n\n",
    "# Create the DynaAgent\n",
    "dyna_agent = DynaAgent(n_states=n_states, n_actions=n_actions)\n",
    "\n",
    "# Train the agent\n",
    "n_episodes = 30\n",
    "episode_durations = []\n",
    "\n",
    "for episode in range(n_episodes):\n",
    "    state,_ = env.reset()\n",
    "    total_reward = 0\n",
    "    done = False\n",
    "    \n",
    "    while not done:\n",
    "        action = dyna_agent.select_action(state)\n",
    "        next_state, reward, terminated, truncated, _ = env.step(action)\n",
    "        dyna_agent.update(state, action, reward, next_state)\n",
    "        done= terminated or truncated\n",
    "        state = next_state\n",
    "        total_reward += reward\n",
    "    \n",
    "    episode_durations.append(total_reward)\n",
    "    dyna_agent.decay_epsilon(episode)\n",
    "\n",
    "env.close()\n",
    "\n",
    "# Analyze results and create necessary plots\n",
    "# Code for analyzing and plotting the results would go here\n"
   ]
  },
  {
   "cell_type": "code",
   "execution_count": null,
   "id": "81d718b5-5eb4-4805-b106-f67f1b14f0a7",
   "metadata": {},
   "outputs": [],
   "source": []
  }
 ],
 "metadata": {
  "kernelspec": {
   "display_name": "ann",
   "language": "python",
   "name": "ann"
  },
  "language_info": {
   "codemirror_mode": {
    "name": "ipython",
    "version": 3
   },
   "file_extension": ".py",
   "mimetype": "text/x-python",
   "name": "python",
   "nbconvert_exporter": "python",
   "pygments_lexer": "ipython3",
   "version": "3.12.2"
  }
 },
 "nbformat": 4,
 "nbformat_minor": 5
}
